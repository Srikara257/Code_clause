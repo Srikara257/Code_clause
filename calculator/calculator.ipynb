{
 "cells": [
  {
   "cell_type": "code",
   "execution_count": 1,
   "id": "0f36ffae",
   "metadata": {},
   "outputs": [],
   "source": [
    "import tkinter as tk\n",
    "\n",
    "# Function to update the display when a button is clicked\n",
    "def button_click(number):\n",
    "    current = display_var.get()\n",
    "    display_var.set(current + str(number))\n",
    "\n",
    "# Function to clear the display\n",
    "def clear():\n",
    "    display_var.set(\"\")\n",
    "\n",
    "# Function to evaluate the expression\n",
    "def evaluate():\n",
    "    try:\n",
    "        result = eval(display_var.get())\n",
    "        display_var.set(result)\n",
    "    except Exception as e:\n",
    "        display_var.set(\"Error\")\n",
    "\n",
    "# Create the main window\n",
    "window = tk.Tk()\n",
    "window.title(\"Calculator\")\n",
    "\n",
    "# Create a variable to hold the display value\n",
    "display_var = tk.StringVar()\n",
    "display_var.set(\"\")\n",
    "\n",
    "# Create the display\n",
    "display = tk.Entry(window, textvariable=display_var, font=(\"Arial\", 20))\n",
    "display.grid(row=0, column=0, columnspan=4)\n",
    "\n",
    "# Create buttons for the numbers and operations\n",
    "buttons = [\n",
    "    \"7\", \"8\", \"9\", \"/\",\n",
    "    \"4\", \"5\", \"6\", \"*\",\n",
    "    \"1\", \"2\", \"3\", \"-\",\n",
    "    \"0\", \".\", \"=\", \"+\"\n",
    "]\n",
    "\n",
    "row_val = 1\n",
    "col_val = 0\n",
    "\n",
    "for button_text in buttons:\n",
    "    tk.Button(window, text=button_text, padx=20, pady=20, font=(\"Arial\", 16),\n",
    "              command=lambda btn=button_text: button_click(btn) if btn != \"=\" else evaluate()).grid(row=row_val, column=col_val)\n",
    "    col_val += 1\n",
    "    if col_val > 3:\n",
    "        col_val = 0\n",
    "        row_val += 1\n",
    "\n",
    "# Create a clear button\n",
    "tk.Button(window, text=\"C\", padx=20, pady=20, font=(\"Arial\", 16), command=clear).grid(row=row_val, column=col_val)\n",
    "\n",
    "# Run the main loop\n",
    "window.mainloop()\n"
   ]
  },
  {
   "cell_type": "code",
   "execution_count": null,
   "id": "2824fabb",
   "metadata": {},
   "outputs": [],
   "source": []
  },
  {
   "cell_type": "code",
   "execution_count": null,
   "id": "212fd46b",
   "metadata": {},
   "outputs": [],
   "source": []
  }
 ],
 "metadata": {
  "kernelspec": {
   "display_name": "Python 3 (ipykernel)",
   "language": "python",
   "name": "python3"
  },
  "language_info": {
   "codemirror_mode": {
    "name": "ipython",
    "version": 3
   },
   "file_extension": ".py",
   "mimetype": "text/x-python",
   "name": "python",
   "nbconvert_exporter": "python",
   "pygments_lexer": "ipython3",
   "version": "3.9.7"
  }
 },
 "nbformat": 4,
 "nbformat_minor": 5
}
